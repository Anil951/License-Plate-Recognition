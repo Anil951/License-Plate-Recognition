{
 "cells": [
  {
   "cell_type": "code",
   "execution_count": 1,
   "id": "0831e1c0-4c83-4e9c-9ab2-9d44db768f60",
   "metadata": {},
   "outputs": [
    {
     "name": "stdout",
     "output_type": "stream",
     "text": [
      "WARNING:tensorflow:From C:\\Python311\\Lib\\site-packages\\keras\\src\\losses.py:2976: The name tf.losses.sparse_softmax_cross_entropy is deprecated. Please use tf.compat.v1.losses.sparse_softmax_cross_entropy instead.\n",
      "\n"
     ]
    }
   ],
   "source": [
    "import os\n",
    "import cv2\n",
    "import pandas as pd\n",
    "import numpy as np\n",
    "import matplotlib.pyplot as plt\n",
    "from sklearn.model_selection import train_test_split\n",
    "import tensorflow as tf\n",
    "from tensorflow.keras import layers, models\n",
    "from tensorflow.keras.applications import EfficientNetB0\n",
    "from tensorflow.keras.callbacks import ModelCheckpoint, EarlyStopping"
   ]
  },
  {
   "cell_type": "code",
   "execution_count": 21,
   "id": "8580c948-163f-49c5-8f57-9055511964fd",
   "metadata": {},
   "outputs": [],
   "source": [
    "#  Preparing YOLO Dataset\n",
    "\n",
    "# Create folders for images and labels (train/val)\n",
    "# Write dataset.yaml file needed by YOLO for training (paths + class names)\n",
    "#For each image:\n",
    "    #   - Read image and get height/width\n",
    "    #   - Convert bounding box (xmin, ymin, xmax, ymax) to YOLO format (x_center, y_center, width, height) normalized by image size\n",
    "\n",
    "\n",
    "# Converts your bounding box annotations into the format YOLO requires, organizes images and labels into folders, and splits into train/val sets.\n",
    "# YOLO requires bounding box annotations in a very specific format for training.\n",
    "\n",
    "# Each annotation label file (one per image) contains one line per object, formatted as:\n",
    "# <class_id> <x_center> <y_center> <width> <height>\n",
    "\n",
    "# class_id: Integer representing the object class (e.g., 0 for license_plate).\n",
    "# x_center: Horizontal center of the bounding box, normalized by the image width (value between 0 and 1).\n",
    "# y_center: Vertical center of the bounding box, normalized by the image height (value between 0 and 1).\n",
    "# width: Width of the bounding box, normalized by image width (0 to 1).\n",
    "# height: Height of the bounding box, normalized by image height (0 to 1).\n",
    "\n",
    "\n",
    "# Each image can have different height and width -  calcluated by :  h, w = img.shape[:2]\n",
    "\n",
    "# example)\n",
    "# img_id\tymin\txmin\tymax\txmax\n",
    "# 1.jpg\t276\t94\t326\t169\n",
    "\n",
    "# x_center = (94 + 169) / 2 / 400 = 0.329\n",
    "# y_center = (276 + 326) / 2 / 500 = 0.602\n",
    "# width = (169 - 94) / 400 = 0.188\n",
    "# height = (326 - 276) / 500 = 0.1\n",
    "\n",
    "# YOLO line:\n",
    "# 0 0.329 0.602 0.188 0.1\n",
    "\n",
    "\n",
    "# for each image a label.txt is created - for /images/train/1.jpg -> /labels/train/1.txt is created in which this YOLO ANNOTATIONS are stored\n"
   ]
  },
  {
   "cell_type": "code",
   "execution_count": 22,
   "id": "10846e8f-4f1c-444a-a99a-aed158a5a654",
   "metadata": {},
   "outputs": [],
   "source": [
    "# dataset.yaml\n",
    "\n",
    "# It's a configuration file that tells YOLO where your dataset is and what classes you want the model to detect.\n",
    "\n",
    "# Your dataset.yaml tells YOLO:\n",
    "#     Training images are in yolo_dataset/images/train\n",
    "#     Validation images are in yolo_dataset/images/val\n",
    "#     There is only one class: license_plate (class ID 0)\n",
    "\n",
    "# This config is passed during training so YOLO learns to detect license plates specifically.\n",
    "\n",
    "\n",
    "# When you call the YOLO training function with data='yolo_dataset/dataset.yaml', the model reads this file.\n",
    "\n",
    "# YOLO automatically adjusts its final detection layers to output predictions for exactly one class instead of the original 80 classes.\n",
    "\n",
    "# This is how the pretrained model is fine-tuned to your specific task."
   ]
  },
  {
   "cell_type": "code",
   "execution_count": 23,
   "id": "e7876b3e-dcbf-4a9e-b9f5-daa8ed048f04",
   "metadata": {},
   "outputs": [],
   "source": [
    "import os\n",
    "import cv2\n",
    "import pandas as pd\n",
    "import numpy as np\n",
    "from sklearn.model_selection import train_test_split\n",
    "from ultralytics import YOLO\n",
    "import tensorflow as tf\n",
    "from tensorflow.keras import layers, models\n",
    "\n",
    "# Prepare YOLO format dataset\n",
    "def prepare_yolo_dataset(detection_df, img_folder=r'C:\\Users\\anilk\\Downloads\\numb_plate_rec\\license_plates_detection_train', output_folder='yolo_dataset'):\n",
    "    os.makedirs(output_folder, exist_ok=True)\n",
    "    os.makedirs(os.path.join(output_folder, 'images'), exist_ok=True)\n",
    "    os.makedirs(os.path.join(output_folder, 'labels'), exist_ok=True)\n",
    "    \n",
    "    # Create dataset.yaml\n",
    "    with open(os.path.join(output_folder, 'dataset.yaml'), 'w') as f:\n",
    "        f.write(f\"\"\"path: {os.path.abspath(output_folder)}\n",
    "train: images/train\n",
    "val: images/val\n",
    "test: images/test\n",
    "\n",
    "names:\n",
    "  0: license_plate\n",
    "\"\"\")\n",
    "\n",
    "    # Split data\n",
    "    train_df, val_df = train_test_split(detection_df, test_size=0.2, random_state=42)\n",
    "    \n",
    "    # Process each split\n",
    "    for df, split in [(train_df, 'train'), (val_df, 'val')]:\n",
    "        split_img_dir = os.path.join(output_folder, 'images', split)\n",
    "        split_label_dir = os.path.join(output_folder, 'labels', split)\n",
    "        os.makedirs(split_img_dir, exist_ok=True)\n",
    "        os.makedirs(split_label_dir, exist_ok=True)\n",
    "        \n",
    "        for _, row in df.iterrows():\n",
    "            img_path = os.path.join(img_folder, row['img_id'])\n",
    "            img = cv2.imread(img_path)\n",
    "            h, w = img.shape[:2]\n",
    "            \n",
    "            # Calculate YOLO format annotations\n",
    "            x_center = ((row['xmin'] + row['xmax']) / 2) / w\n",
    "            y_center = ((row['ymin'] + row['ymax']) / 2) / h\n",
    "            width = (row['xmax'] - row['xmin']) / w\n",
    "            height = (row['ymax'] - row['ymin']) / h\n",
    "            \n",
    "            # Save image\n",
    "            new_img_path = os.path.join(split_img_dir, row['img_id'])\n",
    "            cv2.imwrite(new_img_path, img)\n",
    "            \n",
    "            # Save label\n",
    "            label_path = os.path.join(split_label_dir, os.path.splitext(row['img_id'])[0] + '.txt')\n",
    "            with open(label_path, 'w') as f:\n",
    "                f.write(f\"0 {x_center} {y_center} {width} {height}\")\n",
    "\n",
    "# Load detection annotations  \n",
    "detection_df = pd.read_csv(r'C:\\Users\\anilk\\Downloads\\numb_plate_rec\\Licplatesdetection_train.csv')\n",
    "prepare_yolo_dataset(detection_df)"
   ]
  },
  {
   "cell_type": "code",
   "execution_count": null,
   "id": "5a34ef3c-a9a1-4662-bcb0-ddc6d1656ac7",
   "metadata": {},
   "outputs": [],
   "source": [
    "# What kind of images is YOLO pretrained on?\n",
    "\n",
    "# Usually, models like yolov8n.pt are pretrained on large, diverse datasets such as COCO (Common Objects in Context).\n",
    "# COCO has over 300,000 images with 80 common object classes (people, cars, animals, furniture, etc.).\n",
    "# These images cover a wide variety of scenes, lighting conditions, angles, and object sizes.\n",
    "\n",
    "\n",
    "\n",
    "# What basic features does the pretrained model know?\n",
    "\n",
    "# The model’s early layers have learned to detect low-level features like:\n",
    "# Edges, Corners, Textures, Simple shapes (lines, curves)\n",
    "\n",
    "# Middle layers detect more complex patterns, like:\n",
    "# Parts of objects (wheels, faces, windows), Combinations of shapes\n",
    "\n",
    "# Deeper layers recognize high-level concepts that correspond to whole objects or important regions.\n",
    "\n",
    "\n",
    "\n",
    "# WHY DID WE USE YOLO HERE..?\n",
    "\n",
    "# Because these features are generic and transferable, the pretrained model can quickly adapt to your license plate detection task.\n",
    "# Instead of learning everything from scratch, it fine-tunes the weights to recognize license plates specifically, \n",
    "# saving training time and improving accuracy."
   ]
  },
  {
   "cell_type": "code",
   "execution_count": 3,
   "id": "3e912d60-9273-44b1-b349-c85523f18fa3",
   "metadata": {},
   "outputs": [
    {
     "name": "stdout",
     "output_type": "stream",
     "text": [
      "CUDA available: False\n",
      "CUDA devices: 0\n",
      "New https://pypi.org/project/ultralytics/8.3.134 available  Update with 'pip install -U ultralytics'\n",
      "Ultralytics YOLOv8.2.2  Python-3.11.4 torch-2.2.2+cpu CPU (Intel Core(TM) i5-1035G1 1.00GHz)\n",
      "\u001b[34m\u001b[1mengine\\trainer: \u001b[0mtask=detect, mode=train, model=yolov8n.pt, data=C:\\Users\\anilk\\yolo_dataset\\dataset.yaml, epochs=25, time=None, patience=10, batch=4, imgsz=416, save=True, save_period=-1, cache=False, device=cpu, workers=0, project=None, name=train4, exist_ok=False, pretrained=True, optimizer=Adam, verbose=True, seed=42, deterministic=True, single_cls=False, rect=False, cos_lr=False, close_mosaic=10, resume=False, amp=True, fraction=1.0, profile=False, freeze=None, multi_scale=False, overlap_mask=True, mask_ratio=4, dropout=0.0, val=True, split=val, save_json=False, save_hybrid=False, conf=None, iou=0.7, max_det=300, half=False, dnn=False, plots=True, source=None, vid_stride=1, stream_buffer=False, visualize=False, augment=False, agnostic_nms=False, classes=None, retina_masks=False, embed=None, show=False, save_frames=False, save_txt=False, save_conf=False, save_crop=False, show_labels=True, show_conf=True, show_boxes=True, line_width=None, format=torchscript, keras=False, optimize=False, int8=False, dynamic=False, simplify=False, opset=None, workspace=4, nms=False, lr0=0.01, lrf=0.01, momentum=0.937, weight_decay=0.0005, warmup_epochs=3.0, warmup_momentum=0.8, warmup_bias_lr=0.1, box=7.5, cls=0.5, dfl=1.5, pose=12.0, kobj=1.0, label_smoothing=0.0, nbs=64, hsv_h=0.015, hsv_s=0.7, hsv_v=0.4, degrees=0.0, translate=0.1, scale=0.5, shear=0.0, perspective=0.0, flipud=0.0, fliplr=0.5, bgr=0.0, mosaic=1.0, mixup=0.0, copy_paste=0.0, auto_augment=randaugment, erasing=0.4, crop_fraction=1.0, cfg=None, tracker=botsort.yaml, save_dir=runs\\detect\\train4\n",
      "Overriding model.yaml nc=80 with nc=1\n",
      "\n",
      "                   from  n    params  module                                       arguments                     \n",
      "  0                  -1  1       464  ultralytics.nn.modules.conv.Conv             [3, 16, 3, 2]                 \n",
      "  1                  -1  1      4672  ultralytics.nn.modules.conv.Conv             [16, 32, 3, 2]                \n",
      "  2                  -1  1      7360  ultralytics.nn.modules.block.C2f             [32, 32, 1, True]             \n",
      "  3                  -1  1     18560  ultralytics.nn.modules.conv.Conv             [32, 64, 3, 2]                \n",
      "  4                  -1  2     49664  ultralytics.nn.modules.block.C2f             [64, 64, 2, True]             \n",
      "  5                  -1  1     73984  ultralytics.nn.modules.conv.Conv             [64, 128, 3, 2]               \n",
      "  6                  -1  2    197632  ultralytics.nn.modules.block.C2f             [128, 128, 2, True]           \n",
      "  7                  -1  1    295424  ultralytics.nn.modules.conv.Conv             [128, 256, 3, 2]              \n",
      "  8                  -1  1    460288  ultralytics.nn.modules.block.C2f             [256, 256, 1, True]           \n",
      "  9                  -1  1    164608  ultralytics.nn.modules.block.SPPF            [256, 256, 5]                 \n",
      " 10                  -1  1         0  torch.nn.modules.upsampling.Upsample         [None, 2, 'nearest']          \n",
      " 11             [-1, 6]  1         0  ultralytics.nn.modules.conv.Concat           [1]                           \n",
      " 12                  -1  1    148224  ultralytics.nn.modules.block.C2f             [384, 128, 1]                 \n",
      " 13                  -1  1         0  torch.nn.modules.upsampling.Upsample         [None, 2, 'nearest']          \n",
      " 14             [-1, 4]  1         0  ultralytics.nn.modules.conv.Concat           [1]                           \n",
      " 15                  -1  1     37248  ultralytics.nn.modules.block.C2f             [192, 64, 1]                  \n",
      " 16                  -1  1     36992  ultralytics.nn.modules.conv.Conv             [64, 64, 3, 2]                \n",
      " 17            [-1, 12]  1         0  ultralytics.nn.modules.conv.Concat           [1]                           \n",
      " 18                  -1  1    123648  ultralytics.nn.modules.block.C2f             [192, 128, 1]                 \n",
      " 19                  -1  1    147712  ultralytics.nn.modules.conv.Conv             [128, 128, 3, 2]              \n",
      " 20             [-1, 9]  1         0  ultralytics.nn.modules.conv.Concat           [1]                           \n",
      " 21                  -1  1    493056  ultralytics.nn.modules.block.C2f             [384, 256, 1]                 \n",
      " 22        [15, 18, 21]  1    751507  ultralytics.nn.modules.head.Detect           [1, [64, 128, 256]]           \n",
      "Model summary: 225 layers, 3011043 parameters, 3011027 gradients, 8.2 GFLOPs\n",
      "\n",
      "Transferred 319/355 items from pretrained weights\n",
      "\u001b[34m\u001b[1mTensorBoard: \u001b[0mStart with 'tensorboard --logdir runs\\detect\\train4', view at http://localhost:6006/\n",
      "Freezing layer 'model.22.dfl.conv.weight'\n"
     ]
    },
    {
     "name": "stderr",
     "output_type": "stream",
     "text": [
      "\u001b[34m\u001b[1mtrain: \u001b[0mScanning C:\\Users\\anilk\\yolo_dataset\\labels\\train.cache... 720 images, 0 backgrounds, 0 corrupt: 100%|██████████\u001b[0m\n",
      "\u001b[34m\u001b[1mval: \u001b[0mScanning C:\\Users\\anilk\\yolo_dataset\\labels\\val.cache... 180 images, 0 backgrounds, 0 corrupt: 100%|██████████| 18\u001b[0m\n"
     ]
    },
    {
     "name": "stdout",
     "output_type": "stream",
     "text": [
      "Plotting labels to runs\\detect\\train4\\labels.jpg... \n",
      "\u001b[34m\u001b[1moptimizer:\u001b[0m Adam(lr=0.01, momentum=0.937) with parameter groups 57 weight(decay=0.0), 64 weight(decay=0.0005), 63 bias(decay=0.0)\n",
      "\u001b[34m\u001b[1mTensorBoard: \u001b[0mmodel graph visualization added \n",
      "Image sizes 416 train, 416 val\n",
      "Using 0 dataloader workers\n",
      "Logging results to \u001b[1mruns\\detect\\train4\u001b[0m\n",
      "Starting training for 25 epochs...\n",
      "\n",
      "      Epoch    GPU_mem   box_loss   cls_loss   dfl_loss  Instances       Size\n"
     ]
    },
    {
     "name": "stderr",
     "output_type": "stream",
     "text": [
      "       1/25         0G      1.719      1.504      1.359          8        416: 100%|██████████| 180/180 [07:18<00:00,  \n",
      "                 Class     Images  Instances      Box(P          R      mAP50  mAP50-95): 100%|██████████| 23/23 [00:43"
     ]
    },
    {
     "name": "stdout",
     "output_type": "stream",
     "text": [
      "                   all        180        180      0.486      0.611        0.5      0.235\n"
     ]
    },
    {
     "name": "stderr",
     "output_type": "stream",
     "text": [
      "\n"
     ]
    },
    {
     "name": "stdout",
     "output_type": "stream",
     "text": [
      "\n",
      "      Epoch    GPU_mem   box_loss   cls_loss   dfl_loss  Instances       Size\n"
     ]
    },
    {
     "name": "stderr",
     "output_type": "stream",
     "text": [
      "       2/25         0G      1.603      1.161      1.338         10        416: 100%|██████████| 180/180 [07:19<00:00,  \n",
      "                 Class     Images  Instances      Box(P          R      mAP50  mAP50-95): 100%|██████████| 23/23 [00:24"
     ]
    },
    {
     "name": "stdout",
     "output_type": "stream",
     "text": [
      "                   all        180        180      0.847      0.767      0.889      0.518\n"
     ]
    },
    {
     "name": "stderr",
     "output_type": "stream",
     "text": [
      "\n"
     ]
    },
    {
     "name": "stdout",
     "output_type": "stream",
     "text": [
      "\n",
      "      Epoch    GPU_mem   box_loss   cls_loss   dfl_loss  Instances       Size\n"
     ]
    },
    {
     "name": "stderr",
     "output_type": "stream",
     "text": [
      "       3/25         0G      1.612      1.093      1.311          6        416: 100%|██████████| 180/180 [04:26<00:00,  \n",
      "                 Class     Images  Instances      Box(P          R      mAP50  mAP50-95): 100%|██████████| 23/23 [00:23"
     ]
    },
    {
     "name": "stdout",
     "output_type": "stream",
     "text": [
      "                   all        180        180      0.921      0.806      0.896      0.556\n"
     ]
    },
    {
     "name": "stderr",
     "output_type": "stream",
     "text": [
      "\n"
     ]
    },
    {
     "name": "stdout",
     "output_type": "stream",
     "text": [
      "\n",
      "      Epoch    GPU_mem   box_loss   cls_loss   dfl_loss  Instances       Size\n"
     ]
    },
    {
     "name": "stderr",
     "output_type": "stream",
     "text": [
      "       4/25         0G      1.561      1.044      1.309          7        416: 100%|██████████| 180/180 [04:23<00:00,  \n",
      "                 Class     Images  Instances      Box(P          R      mAP50  mAP50-95): 100%|██████████| 23/23 [00:23"
     ]
    },
    {
     "name": "stdout",
     "output_type": "stream",
     "text": [
      "                   all        180        180      0.787      0.779      0.828      0.512\n"
     ]
    },
    {
     "name": "stderr",
     "output_type": "stream",
     "text": [
      "\n"
     ]
    },
    {
     "name": "stdout",
     "output_type": "stream",
     "text": [
      "\n",
      "      Epoch    GPU_mem   box_loss   cls_loss   dfl_loss  Instances       Size\n"
     ]
    },
    {
     "name": "stderr",
     "output_type": "stream",
     "text": [
      "       5/25         0G      1.492     0.9532      1.263          4        416: 100%|██████████| 180/180 [04:20<00:00,  \n",
      "                 Class     Images  Instances      Box(P          R      mAP50  mAP50-95): 100%|██████████| 23/23 [00:23"
     ]
    },
    {
     "name": "stdout",
     "output_type": "stream",
     "text": [
      "                   all        180        180      0.944      0.932      0.976      0.647\n"
     ]
    },
    {
     "name": "stderr",
     "output_type": "stream",
     "text": [
      "\n"
     ]
    },
    {
     "name": "stdout",
     "output_type": "stream",
     "text": [
      "\n",
      "      Epoch    GPU_mem   box_loss   cls_loss   dfl_loss  Instances       Size\n"
     ]
    },
    {
     "name": "stderr",
     "output_type": "stream",
     "text": [
      "       6/25         0G      1.493     0.9276      1.251          7        416: 100%|██████████| 180/180 [04:21<00:00,  \n",
      "                 Class     Images  Instances      Box(P          R      mAP50  mAP50-95): 100%|██████████| 23/23 [00:23"
     ]
    },
    {
     "name": "stdout",
     "output_type": "stream",
     "text": [
      "                   all        180        180      0.889      0.861      0.943      0.563\n"
     ]
    },
    {
     "name": "stderr",
     "output_type": "stream",
     "text": [
      "\n"
     ]
    },
    {
     "name": "stdout",
     "output_type": "stream",
     "text": [
      "\n",
      "      Epoch    GPU_mem   box_loss   cls_loss   dfl_loss  Instances       Size\n"
     ]
    },
    {
     "name": "stderr",
     "output_type": "stream",
     "text": [
      "       7/25         0G       1.48     0.9635      1.243          8        416: 100%|██████████| 180/180 [04:21<00:00,  \n",
      "                 Class     Images  Instances      Box(P          R      mAP50  mAP50-95): 100%|██████████| 23/23 [00:23"
     ]
    },
    {
     "name": "stdout",
     "output_type": "stream",
     "text": [
      "                   all        180        180      0.851      0.878      0.949      0.611\n"
     ]
    },
    {
     "name": "stderr",
     "output_type": "stream",
     "text": [
      "\n"
     ]
    },
    {
     "name": "stdout",
     "output_type": "stream",
     "text": [
      "\n",
      "      Epoch    GPU_mem   box_loss   cls_loss   dfl_loss  Instances       Size\n"
     ]
    },
    {
     "name": "stderr",
     "output_type": "stream",
     "text": [
      "       8/25         0G      1.379     0.9094      1.182          6        416: 100%|██████████| 180/180 [04:19<00:00,  \n",
      "                 Class     Images  Instances      Box(P          R      mAP50  mAP50-95): 100%|██████████| 23/23 [00:22"
     ]
    },
    {
     "name": "stdout",
     "output_type": "stream",
     "text": [
      "                   all        180        180      0.924      0.967      0.979      0.656\n"
     ]
    },
    {
     "name": "stderr",
     "output_type": "stream",
     "text": [
      "\n"
     ]
    },
    {
     "name": "stdout",
     "output_type": "stream",
     "text": [
      "\n",
      "      Epoch    GPU_mem   box_loss   cls_loss   dfl_loss  Instances       Size\n"
     ]
    },
    {
     "name": "stderr",
     "output_type": "stream",
     "text": [
      "       9/25         0G      1.349      0.854      1.163          4        416: 100%|██████████| 180/180 [04:20<00:00,  \n",
      "                 Class     Images  Instances      Box(P          R      mAP50  mAP50-95): 100%|██████████| 23/23 [00:23"
     ]
    },
    {
     "name": "stdout",
     "output_type": "stream",
     "text": [
      "                   all        180        180      0.912      0.919      0.968      0.669\n"
     ]
    },
    {
     "name": "stderr",
     "output_type": "stream",
     "text": [
      "\n"
     ]
    },
    {
     "name": "stdout",
     "output_type": "stream",
     "text": [
      "\n",
      "      Epoch    GPU_mem   box_loss   cls_loss   dfl_loss  Instances       Size\n"
     ]
    },
    {
     "name": "stderr",
     "output_type": "stream",
     "text": [
      "      10/25         0G      1.286     0.8045      1.126          6        416: 100%|██████████| 180/180 [04:21<00:00,  \n",
      "                 Class     Images  Instances      Box(P          R      mAP50  mAP50-95): 100%|██████████| 23/23 [00:22"
     ]
    },
    {
     "name": "stdout",
     "output_type": "stream",
     "text": [
      "                   all        180        180      0.979      0.917      0.983      0.665\n"
     ]
    },
    {
     "name": "stderr",
     "output_type": "stream",
     "text": [
      "\n"
     ]
    },
    {
     "name": "stdout",
     "output_type": "stream",
     "text": [
      "\n",
      "      Epoch    GPU_mem   box_loss   cls_loss   dfl_loss  Instances       Size\n"
     ]
    },
    {
     "name": "stderr",
     "output_type": "stream",
     "text": [
      "      11/25         0G      1.293     0.7999      1.153          6        416: 100%|██████████| 180/180 [04:21<00:00,  \n",
      "                 Class     Images  Instances      Box(P          R      mAP50  mAP50-95): 100%|██████████| 23/23 [00:22"
     ]
    },
    {
     "name": "stdout",
     "output_type": "stream",
     "text": [
      "                   all        180        180      0.977      0.922      0.984      0.683\n"
     ]
    },
    {
     "name": "stderr",
     "output_type": "stream",
     "text": [
      "\n"
     ]
    },
    {
     "name": "stdout",
     "output_type": "stream",
     "text": [
      "\n",
      "      Epoch    GPU_mem   box_loss   cls_loss   dfl_loss  Instances       Size\n"
     ]
    },
    {
     "name": "stderr",
     "output_type": "stream",
     "text": [
      "      12/25         0G      1.266     0.7967      1.115         11        416: 100%|██████████| 180/180 [04:24<00:00,  \n",
      "                 Class     Images  Instances      Box(P          R      mAP50  mAP50-95): 100%|██████████| 23/23 [00:23"
     ]
    },
    {
     "name": "stdout",
     "output_type": "stream",
     "text": [
      "                   all        180        180      0.965      0.929       0.98      0.687\n"
     ]
    },
    {
     "name": "stderr",
     "output_type": "stream",
     "text": [
      "\n"
     ]
    },
    {
     "name": "stdout",
     "output_type": "stream",
     "text": [
      "\n",
      "      Epoch    GPU_mem   box_loss   cls_loss   dfl_loss  Instances       Size\n"
     ]
    },
    {
     "name": "stderr",
     "output_type": "stream",
     "text": [
      "      13/25         0G      1.198     0.7645      1.094          7        416: 100%|██████████| 180/180 [04:20<00:00,  \n",
      "                 Class     Images  Instances      Box(P          R      mAP50  mAP50-95): 100%|██████████| 23/23 [00:22"
     ]
    },
    {
     "name": "stdout",
     "output_type": "stream",
     "text": [
      "                   all        180        180       0.97      0.922      0.985      0.702\n"
     ]
    },
    {
     "name": "stderr",
     "output_type": "stream",
     "text": [
      "\n"
     ]
    },
    {
     "name": "stdout",
     "output_type": "stream",
     "text": [
      "\n",
      "      Epoch    GPU_mem   box_loss   cls_loss   dfl_loss  Instances       Size\n"
     ]
    },
    {
     "name": "stderr",
     "output_type": "stream",
     "text": [
      "      14/25         0G      1.198     0.7162      1.091         11        416: 100%|██████████| 180/180 [04:20<00:00,  \n",
      "                 Class     Images  Instances      Box(P          R      mAP50  mAP50-95): 100%|██████████| 23/23 [00:22"
     ]
    },
    {
     "name": "stdout",
     "output_type": "stream",
     "text": [
      "                   all        180        180      0.976      0.917      0.983      0.697\n"
     ]
    },
    {
     "name": "stderr",
     "output_type": "stream",
     "text": [
      "\n"
     ]
    },
    {
     "name": "stdout",
     "output_type": "stream",
     "text": [
      "\n",
      "      Epoch    GPU_mem   box_loss   cls_loss   dfl_loss  Instances       Size\n"
     ]
    },
    {
     "name": "stderr",
     "output_type": "stream",
     "text": [
      "      15/25         0G      1.252     0.7409        1.1          6        416: 100%|██████████| 180/180 [04:20<00:00,  \n",
      "                 Class     Images  Instances      Box(P          R      mAP50  mAP50-95): 100%|██████████| 23/23 [00:22"
     ]
    },
    {
     "name": "stdout",
     "output_type": "stream",
     "text": [
      "                   all        180        180      0.918      0.978      0.987      0.691\n"
     ]
    },
    {
     "name": "stderr",
     "output_type": "stream",
     "text": [
      "\n"
     ]
    },
    {
     "name": "stdout",
     "output_type": "stream",
     "text": [
      "Closing dataloader mosaic\n",
      "\n",
      "      Epoch    GPU_mem   box_loss   cls_loss   dfl_loss  Instances       Size\n"
     ]
    },
    {
     "name": "stderr",
     "output_type": "stream",
     "text": [
      "      16/25         0G      1.124     0.6355      1.098          4        416: 100%|██████████| 180/180 [04:18<00:00,  \n",
      "                 Class     Images  Instances      Box(P          R      mAP50  mAP50-95): 100%|██████████| 23/23 [00:22"
     ]
    },
    {
     "name": "stdout",
     "output_type": "stream",
     "text": [
      "                   all        180        180      0.932      0.986      0.984      0.737\n"
     ]
    },
    {
     "name": "stderr",
     "output_type": "stream",
     "text": [
      "\n"
     ]
    },
    {
     "name": "stdout",
     "output_type": "stream",
     "text": [
      "\n",
      "      Epoch    GPU_mem   box_loss   cls_loss   dfl_loss  Instances       Size\n"
     ]
    },
    {
     "name": "stderr",
     "output_type": "stream",
     "text": [
      "      17/25         0G      1.134     0.6538      1.072          4        416: 100%|██████████| 180/180 [04:12<00:00,  \n",
      "                 Class     Images  Instances      Box(P          R      mAP50  mAP50-95): 100%|██████████| 23/23 [00:22"
     ]
    },
    {
     "name": "stdout",
     "output_type": "stream",
     "text": [
      "                   all        180        180      0.984      0.911      0.989      0.715\n"
     ]
    },
    {
     "name": "stderr",
     "output_type": "stream",
     "text": [
      "\n"
     ]
    },
    {
     "name": "stdout",
     "output_type": "stream",
     "text": [
      "\n",
      "      Epoch    GPU_mem   box_loss   cls_loss   dfl_loss  Instances       Size\n"
     ]
    },
    {
     "name": "stderr",
     "output_type": "stream",
     "text": [
      "      18/25         0G      1.041     0.6204      1.056          4        416: 100%|██████████| 180/180 [04:09<00:00,  \n",
      "                 Class     Images  Instances      Box(P          R      mAP50  mAP50-95): 100%|██████████| 23/23 [00:22"
     ]
    },
    {
     "name": "stdout",
     "output_type": "stream",
     "text": [
      "                   all        180        180      0.956      0.977      0.991      0.739\n"
     ]
    },
    {
     "name": "stderr",
     "output_type": "stream",
     "text": [
      "\n"
     ]
    },
    {
     "name": "stdout",
     "output_type": "stream",
     "text": [
      "\n",
      "      Epoch    GPU_mem   box_loss   cls_loss   dfl_loss  Instances       Size\n"
     ]
    },
    {
     "name": "stderr",
     "output_type": "stream",
     "text": [
      "      19/25         0G      1.053     0.6127      1.038          4        416: 100%|██████████| 180/180 [04:08<00:00,  \n",
      "                 Class     Images  Instances      Box(P          R      mAP50  mAP50-95): 100%|██████████| 23/23 [00:22"
     ]
    },
    {
     "name": "stdout",
     "output_type": "stream",
     "text": [
      "                   all        180        180      0.943      0.972      0.991      0.735\n"
     ]
    },
    {
     "name": "stderr",
     "output_type": "stream",
     "text": [
      "\n"
     ]
    },
    {
     "name": "stdout",
     "output_type": "stream",
     "text": [
      "\n",
      "      Epoch    GPU_mem   box_loss   cls_loss   dfl_loss  Instances       Size\n"
     ]
    },
    {
     "name": "stderr",
     "output_type": "stream",
     "text": [
      "      20/25         0G      1.066     0.5876      1.053          4        416: 100%|██████████| 180/180 [04:15<00:00,  \n",
      "                 Class     Images  Instances      Box(P          R      mAP50  mAP50-95): 100%|██████████| 23/23 [00:22"
     ]
    },
    {
     "name": "stdout",
     "output_type": "stream",
     "text": [
      "                   all        180        180      0.986      0.989      0.994      0.739\n"
     ]
    },
    {
     "name": "stderr",
     "output_type": "stream",
     "text": [
      "\n"
     ]
    },
    {
     "name": "stdout",
     "output_type": "stream",
     "text": [
      "\n",
      "      Epoch    GPU_mem   box_loss   cls_loss   dfl_loss  Instances       Size\n"
     ]
    },
    {
     "name": "stderr",
     "output_type": "stream",
     "text": [
      "      21/25         0G      1.031     0.5604      1.047          4        416: 100%|██████████| 180/180 [04:08<00:00,  \n",
      "                 Class     Images  Instances      Box(P          R      mAP50  mAP50-95): 100%|██████████| 23/23 [00:22"
     ]
    },
    {
     "name": "stdout",
     "output_type": "stream",
     "text": [
      "                   all        180        180      0.971      0.994      0.994      0.747\n"
     ]
    },
    {
     "name": "stderr",
     "output_type": "stream",
     "text": [
      "\n"
     ]
    },
    {
     "name": "stdout",
     "output_type": "stream",
     "text": [
      "\n",
      "      Epoch    GPU_mem   box_loss   cls_loss   dfl_loss  Instances       Size\n"
     ]
    },
    {
     "name": "stderr",
     "output_type": "stream",
     "text": [
      "      22/25         0G      1.016     0.5413      1.034          3        416: 100%|██████████| 180/180 [04:25<00:00,  \n",
      "                 Class     Images  Instances      Box(P          R      mAP50  mAP50-95): 100%|██████████| 23/23 [00:24"
     ]
    },
    {
     "name": "stdout",
     "output_type": "stream",
     "text": [
      "                   all        180        180       0.97      0.994      0.992      0.747\n"
     ]
    },
    {
     "name": "stderr",
     "output_type": "stream",
     "text": [
      "\n"
     ]
    },
    {
     "name": "stdout",
     "output_type": "stream",
     "text": [
      "\n",
      "      Epoch    GPU_mem   box_loss   cls_loss   dfl_loss  Instances       Size\n"
     ]
    },
    {
     "name": "stderr",
     "output_type": "stream",
     "text": [
      "      23/25         0G     0.9668      0.533      1.012          4        416: 100%|██████████| 180/180 [04:21<00:00,  \n",
      "                 Class     Images  Instances      Box(P          R      mAP50  mAP50-95): 100%|██████████| 23/23 [00:21"
     ]
    },
    {
     "name": "stdout",
     "output_type": "stream",
     "text": [
      "                   all        180        180      0.963      0.994      0.988      0.756\n"
     ]
    },
    {
     "name": "stderr",
     "output_type": "stream",
     "text": [
      "\n"
     ]
    },
    {
     "name": "stdout",
     "output_type": "stream",
     "text": [
      "\n",
      "      Epoch    GPU_mem   box_loss   cls_loss   dfl_loss  Instances       Size\n"
     ]
    },
    {
     "name": "stderr",
     "output_type": "stream",
     "text": [
      "      24/25         0G     0.9705      0.517     0.9992          4        416: 100%|██████████| 180/180 [04:10<00:00,  \n",
      "                 Class     Images  Instances      Box(P          R      mAP50  mAP50-95): 100%|██████████| 23/23 [00:18"
     ]
    },
    {
     "name": "stdout",
     "output_type": "stream",
     "text": [
      "                   all        180        180      0.973      0.994      0.988      0.768\n"
     ]
    },
    {
     "name": "stderr",
     "output_type": "stream",
     "text": [
      "\n"
     ]
    },
    {
     "name": "stdout",
     "output_type": "stream",
     "text": [
      "\n",
      "      Epoch    GPU_mem   box_loss   cls_loss   dfl_loss  Instances       Size\n"
     ]
    },
    {
     "name": "stderr",
     "output_type": "stream",
     "text": [
      "      25/25         0G     0.9416     0.4972      1.005          4        416: 100%|██████████| 180/180 [04:38<00:00,  \n",
      "                 Class     Images  Instances      Box(P          R      mAP50  mAP50-95): 100%|██████████| 23/23 [00:19"
     ]
    },
    {
     "name": "stdout",
     "output_type": "stream",
     "text": [
      "                   all        180        180      0.967      0.989      0.993      0.769\n"
     ]
    },
    {
     "name": "stderr",
     "output_type": "stream",
     "text": [
      "\n"
     ]
    },
    {
     "name": "stdout",
     "output_type": "stream",
     "text": [
      "\n",
      "25 epochs completed in 2.078 hours.\n",
      "Optimizer stripped from runs\\detect\\train4\\weights\\last.pt, 6.2MB\n",
      "Optimizer stripped from runs\\detect\\train4\\weights\\best.pt, 6.2MB\n",
      "\n",
      "Validating runs\\detect\\train4\\weights\\best.pt...\n",
      "Ultralytics YOLOv8.2.2  Python-3.11.4 torch-2.2.2+cpu CPU (Intel Core(TM) i5-1035G1 1.00GHz)\n",
      "Model summary (fused): 168 layers, 3005843 parameters, 0 gradients, 8.1 GFLOPs\n"
     ]
    },
    {
     "name": "stderr",
     "output_type": "stream",
     "text": [
      "                 Class     Images  Instances      Box(P          R      mAP50  mAP50-95): 100%|██████████| 23/23 [00:18\n"
     ]
    },
    {
     "name": "stdout",
     "output_type": "stream",
     "text": [
      "                   all        180        180      0.967       0.99      0.993      0.769\n",
      "Speed: 1.1ms preprocess, 86.8ms inference, 0.0ms loss, 0.8ms postprocess per image\n",
      "Results saved to \u001b[1mruns\\detect\\train4\u001b[0m\n"
     ]
    }
   ],
   "source": [
    "import os\n",
    "import cv2\n",
    "import pandas as pd\n",
    "import numpy as np\n",
    "from sklearn.model_selection import train_test_split\n",
    "from ultralytics import YOLO\n",
    "import torch\n",
    "\n",
    "# Verify device availability\n",
    "# Checks if your machine has GPU support via CUDA (important for faster training).\n",
    "print(f\"CUDA available: {torch.cuda.is_available()}\")\n",
    "print(f\"CUDA devices: {torch.cuda.device_count()}\")\n",
    "\n",
    "def train_detection_model():\n",
    "    # Load pretrained model\n",
    "    model = YOLO('yolov8n.pt')\n",
    "    \n",
    "    # Training parameters optimized for CPU\n",
    "    results = model.train(\n",
    "        data=os.path.abspath('yolo_dataset/dataset.yaml'),\n",
    "        epochs=25,           # Reduced epochs for quicker training on CPU\n",
    "        imgsz=416,          # Smaller image size\n",
    "        batch=4,            # Smaller batch size\n",
    "        device='cpu',       # Force CPU usage\n",
    "        workers=0,          # Disable multiprocessing if memory issues\n",
    "        patience=10,        # Early stopping if no improvement\n",
    "        lr0=0.01,           # Initial learning rate\n",
    "        lrf=0.01,           # Final learning rate\n",
    "        optimizer='Adam',   # Might work better than SGD on CPU\n",
    "        seed=42\n",
    "    )\n",
    "    \n",
    "    return model\n",
    "\n",
    "# Run training\n",
    "try:\n",
    "    detection_model = train_detection_model()\n",
    "except Exception as e:\n",
    "    print(f\"Error during training: {e}\")\n",
    "    print(\"Trying with even more conservative settings...\")\n",
    "    \n",
    "    # Fallback with ultra-conservative settings\n",
    "    model = YOLO('yolov8n.pt')\n",
    "    results = model.train(\n",
    "        data=os.path.abspath('yolo_dataset/dataset.yaml'),\n",
    "        epochs=30,\n",
    "        imgsz=320,\n",
    "        batch=2,\n",
    "        device='cpu',\n",
    "        workers=0\n",
    "    )\n",
    "    detection_model = model"
   ]
  },
  {
   "cell_type": "code",
   "execution_count": null,
   "id": "bca0eb1e-9948-44be-aab4-a4cc77e8c437",
   "metadata": {},
   "outputs": [],
   "source": [
    "# ----------- METRICS USED -----------\n",
    "\n",
    "\n",
    "# GPU_mem: Memory used on GPU (0G means CPU training)\n",
    "# box_loss: Loss related to bounding box regression (how well the model predicts the box location and size)\n",
    "# cls_loss: Classification loss (how well the model predicts the correct class, here just one class)\n",
    "# dfl_loss: Distribution Focal Loss, helps with more precise bounding box regression\n",
    "# Instances: Number of labeled objects processed in that batch (e.g., 4)\n",
    "# Size: Input image size (e.g., 416 x 416 pixels)\n",
    "\n",
    "\n",
    "# mAP50 means mean Average Precision at 50% IoU.\n",
    "# mAP50-95 means the mean Average Precision averaged over IoU thresholds from 50% to 95% (in steps of 5%).\n",
    "\n",
    "# IoU threshold (Intersection over Union threshold) is a number that decides when a predicted bounding box is considered a correct detection.\n",
    "# It measures how much the predicted box overlaps with the actual (ground truth) box.\n",
    "\n",
    "# Formula:\n",
    "# LoU= Area of Overlap / Area of Union\n",
    "# IoU ranges from 0 (no overlap) to 1 (perfect overlap).\n",
    "\n",
    "# 0.5 (50%) IoU threshold means the predicted box needs at least 50% overlap with the real box to count as correct.\n",
    "# Higher thresholds (like 0.75 or 0.95) require more precise overlap.\n",
    "\n",
    "# mAP50, it means the model is evaluated with an IoU threshold of 0.5 (50%).\n",
    "# When you see mAP50-95, it means the model is tested over multiple thresholds from 0.5 to 0.95, making the evaluation stricter.\n",
    "\n",
    "\n",
    "# Precision(P) and Recall(R) see, (class 0 is predicted or not)\n",
    "#     - Of all the objects your model predicted, how many were actually correct? = P\n",
    "#     - Of all the actual objects, how many did your model find? = R\n",
    "\n",
    "\n",
    "# THAT IS, \n",
    "# During evaluation (precision, recall, mAP), it checks:\n",
    "#     Did it correctly detect the object as class 0 (license plate)?\n",
    "#     Was the location (bounding box) close enough (based on IoU threshold)?"
   ]
  },
  {
   "cell_type": "code",
   "execution_count": 19,
   "id": "fc241214-1332-4896-9ee6-007538357f39",
   "metadata": {},
   "outputs": [
    {
     "name": "stdout",
     "output_type": "stream",
     "text": [
      "Ultralytics YOLOv8.2.2  Python-3.11.4 torch-2.2.2+cpu CPU (Intel Core(TM) i5-1035G1 1.00GHz)\n",
      "Model summary (fused): 168 layers, 3005843 parameters, 0 gradients, 8.1 GFLOPs\n"
     ]
    },
    {
     "name": "stderr",
     "output_type": "stream",
     "text": [
      "\u001b[34m\u001b[1mval: \u001b[0mScanning C:\\Users\\anilk\\yolo_dataset\\labels\\val.cache... 180 images, 0 backgrounds, 0 corrupt: 100%|██████████| 18\u001b[0m\n",
      "                 Class     Images  Instances      Box(P          R      mAP50  mAP50-95): 100%|██████████| 12/12 [00:14\n"
     ]
    },
    {
     "name": "stdout",
     "output_type": "stream",
     "text": [
      "                   all        180        180      0.967      0.991      0.993      0.768\n",
      "Speed: 1.0ms preprocess, 67.8ms inference, 0.0ms loss, 0.5ms postprocess per image\n",
      "Results saved to \u001b[1mruns\\detect\\val3\u001b[0m\n",
      "mAP50:  0.9931431530407826\n",
      "mAP50-95:  0.7676043292566268\n",
      "Mean Precision:  0.9674715363008394\n",
      "Mean Recall:  0.9914176811857149\n"
     ]
    }
   ],
   "source": [
    "from ultralytics import YOLO\n",
    "\n",
    "# Load the trained model\n",
    "model = YOLO('runs/detect/train4/weights/best.pt')\n",
    "\n",
    "# Run validation\n",
    "metrics = model.val()\n",
    "\n",
    "# Print metrics\n",
    "print(\"mAP50: \", metrics.box.map50)\n",
    "print(\"mAP50-95: \", metrics.box.map)\n",
    "print(\"Mean Precision: \", metrics.box.mp)  \n",
    "print(\"Mean Recall: \", metrics.box.mr) \n"
   ]
  },
  {
   "cell_type": "code",
   "execution_count": 1,
   "id": "56b4dab8-5c2a-4b14-9774-908debed36cf",
   "metadata": {},
   "outputs": [],
   "source": [
    "from ultralytics import YOLO\n",
    "\n",
    "# Load the trained model\n",
    "model = YOLO('runs/detect/train4/weights/best.pt')"
   ]
  },
  {
   "cell_type": "code",
   "execution_count": 2,
   "id": "1bf40198-a2ad-487d-8f0c-fbf895d2ac06",
   "metadata": {},
   "outputs": [
    {
     "name": "stdout",
     "output_type": "stream",
     "text": [
      "\n",
      "image 1/1 C:\\Users\\anilk\\Downloads\\numb_plate_rec\\test\\922.jpg: 416x416 1 license_plate, 276.0ms\n",
      "Speed: 13.3ms preprocess, 276.0ms inference, 7230.5ms postprocess per image at shape (1, 3, 416, 416)\n"
     ]
    }
   ],
   "source": [
    "import cv2\n",
    "\n",
    "\n",
    "def detect_license_plate(image_path):\n",
    "    # Predict\n",
    "    results = model(image_path)[0]\n",
    "\n",
    "    # Load image\n",
    "    image = cv2.imread(image_path)\n",
    "\n",
    "    # Draw bounding boxes\n",
    "    for box in results.boxes:\n",
    "        x1, y1, x2, y2 = map(int, box.xyxy[0])\n",
    "        conf = float(box.conf[0])\n",
    "        cls_id = int(box.cls[0])\n",
    "\n",
    "        # Draw green box and label\n",
    "        cv2.rectangle(image, (x1, y1), (x2, y2), (0, 255, 0), 2)\n",
    "        cv2.putText(image, f'{model.names[cls_id]} {conf:.2f}', (x1, y1 - 10),\n",
    "                    cv2.FONT_HERSHEY_SIMPLEX, 0.6, (0, 255, 0), 2)\n",
    "\n",
    "    # Show image in a resizable window\n",
    "    cv2.namedWindow(\"Detected License Plate\", cv2.WINDOW_NORMAL)\n",
    "    cv2.imshow(\"Detected License Plate\", image)\n",
    "    cv2.waitKey(0)\n",
    "    cv2.destroyAllWindows()\n",
    "\n",
    "# Run it\n",
    "detect_license_plate(r'C:\\Users\\anilk\\Downloads\\numb_plate_rec\\test\\922.jpg')\n"
   ]
  },
  {
   "cell_type": "code",
   "execution_count": 3,
   "id": "18d4b81d-ab69-4584-a420-e2a9f125d283",
   "metadata": {},
   "outputs": [
    {
     "name": "stdout",
     "output_type": "stream",
     "text": [
      "\n",
      "image 1/1 C:\\Users\\anilk\\Downloads\\numb_plate_rec\\test\\922.jpg: 416x416 1 license_plate, 149.1ms\n",
      "Speed: 6.8ms preprocess, 149.1ms inference, 1.7ms postprocess per image at shape (1, 3, 416, 416)\n"
     ]
    }
   ],
   "source": [
    "detect_license_plate(r'C:\\Users\\anilk\\Downloads\\numb_plate_rec\\test\\922.jpg')"
   ]
  },
  {
   "cell_type": "code",
   "execution_count": 4,
   "id": "35b286e5-7c69-4129-8e4b-582f9c616b2e",
   "metadata": {},
   "outputs": [
    {
     "name": "stdout",
     "output_type": "stream",
     "text": [
      "\n",
      "image 1/1 C:\\Users\\anilk\\Downloads\\download (1).jpeg: 256x416 1 license_plate, 123.8ms\n",
      "Speed: 1.4ms preprocess, 123.8ms inference, 1.0ms postprocess per image at shape (1, 3, 256, 416)\n"
     ]
    }
   ],
   "source": [
    "# image from internet\n",
    "\n",
    "detect_license_plate(r'C:\\Users\\anilk\\Downloads\\download (1).jpeg')"
   ]
  },
  {
   "cell_type": "code",
   "execution_count": null,
   "id": "7cf305f4-35bb-4bee-b391-53ccbc107048",
   "metadata": {},
   "outputs": [],
   "source": []
  },
  {
   "cell_type": "code",
   "execution_count": null,
   "id": "ee299c72-a0d9-4b2b-8917-0f3444d0a827",
   "metadata": {},
   "outputs": [],
   "source": []
  },
  {
   "cell_type": "code",
   "execution_count": null,
   "id": "80e2d9d7-78bf-49f0-b75f-68137ac3a74d",
   "metadata": {},
   "outputs": [],
   "source": []
  }
 ],
 "metadata": {
  "kernelspec": {
   "display_name": "Python 3 (ipykernel)",
   "language": "python",
   "name": "python3"
  },
  "language_info": {
   "codemirror_mode": {
    "name": "ipython",
    "version": 3
   },
   "file_extension": ".py",
   "mimetype": "text/x-python",
   "name": "python",
   "nbconvert_exporter": "python",
   "pygments_lexer": "ipython3",
   "version": "3.11.4"
  }
 },
 "nbformat": 4,
 "nbformat_minor": 5
}
